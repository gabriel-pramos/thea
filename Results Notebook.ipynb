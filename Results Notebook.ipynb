{
 "cells": [
  {
   "cell_type": "code",
   "execution_count": null,
   "metadata": {},
   "outputs": [],
   "source": [
    "from scipy.stats import gmean\n",
    "from glob import glob\n",
    "\n",
    "import matplotlib.pyplot as plt\n",
    "import seaborn as sns\n",
    "import pandas as pd\n",
    "import numpy as np\n",
    "import msgpack\n",
    "import os\n",
    "\n",
    "\n",
    "pd.set_option(\"display.max_colwidth\", None)\n"
   ]
  },
  {
   "cell_type": "code",
   "execution_count": null,
   "metadata": {},
   "outputs": [],
   "source": []
  },
  {
   "cell_type": "code",
   "execution_count": null,
   "metadata": {},
   "outputs": [],
   "source": []
  },
  {
   "cell_type": "markdown",
   "metadata": {},
   "source": [
    "## NSGA-II Sensitivity Analysis"
   ]
  },
  {
   "cell_type": "code",
   "execution_count": null,
   "metadata": {},
   "outputs": [],
   "source": [
    "def read_results(path):\n",
    "\n",
    "    data = []\n",
    "    for algorithm in glob(path):\n",
    "        for log in glob(algorithm + \"/*\"):\n",
    "            if \"Topology\" in log:\n",
    "                with open(log, \"rb\") as f:\n",
    "                    metrics = msgpack.load(f, strict_map_key=False)[-1]\n",
    "                    metrics[\"algorithm\"] = algorithm\n",
    "                    data.append(metrics)\n",
    "\n",
    "    return data\n",
    "\n",
    "\n",
    "data = read_results(\"logs/*\")\n"
   ]
  },
  {
   "cell_type": "code",
   "execution_count": null,
   "metadata": {},
   "outputs": [],
   "source": [
    "df = pd.DataFrame(data)\n",
    "df = df[[\"algorithm\", \"overall_occupation\", \"overall_power_consumption\", \"delay_sla_violations\", \"privacy_sla_violations\"]]\n",
    "df\n"
   ]
  },
  {
   "cell_type": "code",
   "execution_count": null,
   "metadata": {},
   "outputs": [],
   "source": [
    "df.loc[:, (\"Cost\")] = df[[\"overall_power_consumption\", \"delay_sla_violations\", \"privacy_sla_violations\"]].apply(gmean, axis=1)\n",
    "df = df.sort_values(by=[\"Cost\"])\n",
    "df\n"
   ]
  },
  {
   "cell_type": "code",
   "execution_count": null,
   "metadata": {},
   "outputs": [],
   "source": [
    "df[\"Algorithm\"] = df[\"algorithm\"].apply(lambda x: x.split(\";\")[0].split(\"=\")[1])\n",
    "\n",
    "df.loc[df.Algorithm == \"nsgaii\", \"PopSize\"] = df.loc[df.Algorithm == \"nsgaii\", \"algorithm\"].apply(\n",
    "    lambda x: int(x.split(\";\")[1].split(\"=\")[1])\n",
    ")\n",
    "df.loc[df.Algorithm == \"nsgaii\", \"NGen\"] = df.loc[df.Algorithm == \"nsgaii\", \"algorithm\"].apply(\n",
    "    lambda x: int(x.split(\";\")[2].split(\"=\")[1])\n",
    ")\n",
    "df.loc[df.Algorithm == \"nsgaii\", \"CrossProb\"] = df.loc[df.Algorithm == \"nsgaii\", \"algorithm\"].apply(\n",
    "    lambda x: float(x.split(\";\")[3].split(\"=\")[1])\n",
    ")\n",
    "df.loc[df.Algorithm == \"nsgaii\", \"MutProb\"] = df.loc[df.Algorithm == \"nsgaii\", \"algorithm\"].apply(\n",
    "    lambda x: float(x.split(\";\")[4].split(\"=\")[1])\n",
    ")\n",
    "\n",
    "df\n"
   ]
  },
  {
   "cell_type": "code",
   "execution_count": null,
   "metadata": {},
   "outputs": [],
   "source": [
    "df[[\"algorithm\", \"Algorithm\", \"PopSize\", \"NGen\", \"CrossProb\", \"MutProb\"]].head(5)\n"
   ]
  },
  {
   "cell_type": "code",
   "execution_count": null,
   "metadata": {},
   "outputs": [],
   "source": [
    "# Save NSGA-II sensitivity analysis results\n",
    "nsgaii_df = df.query(\"Algorithm == 'nsgaii' and PopSize == 300\").copy()\n",
    "\n",
    "nsgaii_df[\n",
    "    [\n",
    "        \"Algorithm\",\n",
    "        \"PopSize\",\n",
    "        \"NGen\",\n",
    "        \"CrossProb\",\n",
    "        \"MutProb\",\n",
    "        \"overall_occupation\",\n",
    "        \"overall_power_consumption\",\n",
    "        \"delay_sla_violations\",\n",
    "        \"privacy_sla_violations\",\n",
    "        \"Cost\",\n",
    "    ]\n",
    "].to_csv(\"NSGA-II-Sensitivity-Analysis.csv\", index=False, sep=\",\")\n"
   ]
  },
  {
   "cell_type": "code",
   "execution_count": null,
   "metadata": {},
   "outputs": [],
   "source": []
  },
  {
   "cell_type": "code",
   "execution_count": null,
   "metadata": {},
   "outputs": [],
   "source": []
  },
  {
   "cell_type": "code",
   "execution_count": null,
   "metadata": {},
   "outputs": [],
   "source": []
  },
  {
   "cell_type": "markdown",
   "metadata": {},
   "source": [
    "### Crossover and Mutation Probability Heatmap"
   ]
  },
  {
   "cell_type": "code",
   "execution_count": null,
   "metadata": {},
   "outputs": [],
   "source": [
    "nsgaii_pivot_df = pd.pivot_table(nsgaii_df, values=\"Cost\", index=\"CrossProb\", columns=\"MutProb\", aggfunc=np.min)\n",
    "nsgaii_pivot_df\n"
   ]
  },
  {
   "cell_type": "code",
   "execution_count": null,
   "metadata": {},
   "outputs": [],
   "source": [
    "mut_prob = nsgaii_pivot_df.columns.values\n",
    "mut_prob\n"
   ]
  },
  {
   "cell_type": "code",
   "execution_count": null,
   "metadata": {},
   "outputs": [],
   "source": [
    "cross_prob = nsgaii_pivot_df.index.values\n",
    "cross_prob\n"
   ]
  },
  {
   "cell_type": "markdown",
   "metadata": {},
   "source": [
    "#### Set Custom Font"
   ]
  },
  {
   "cell_type": "code",
   "execution_count": null,
   "metadata": {},
   "outputs": [],
   "source": [
    "!mkdir dependencies\n",
    "!wget 'https://fonts.google.com/download?family=Roboto' -O dependencies/roboto.zip\n",
    "!unzip -o dependencies/roboto.zip -d dependencies/roboto"
   ]
  },
  {
   "cell_type": "code",
   "execution_count": null,
   "metadata": {},
   "outputs": [],
   "source": [
    "import matplotlib.font_manager\n",
    "\n",
    "matplotlib.font_manager.findSystemFonts(fontpaths=\"dependencies/roboto\", fontext=\"ttf\")\n"
   ]
  },
  {
   "cell_type": "code",
   "execution_count": null,
   "metadata": {},
   "outputs": [],
   "source": [
    "font_path = os.path.join(os.getcwd(), \"dependencies/roboto/Roboto-Regular.ttf\")\n",
    "font_path\n"
   ]
  },
  {
   "cell_type": "code",
   "execution_count": null,
   "metadata": {},
   "outputs": [],
   "source": [
    "import matplotlib.font_manager as font_manager\n",
    "import matplotlib as mpl\n",
    "import os\n",
    "\n",
    "prop = font_manager.FontProperties(fname=font_path)\n",
    "plt.rcParams[\"font.family\"] = prop.get_name()\n",
    "plt.rcParams[\"font.weight\"] = 300\n"
   ]
  },
  {
   "cell_type": "markdown",
   "metadata": {},
   "source": [
    "#### Plot"
   ]
  },
  {
   "cell_type": "code",
   "execution_count": null,
   "metadata": {},
   "outputs": [],
   "source": [
    "import matplotlib.colors as colors\n",
    "\n",
    "fig, ax = plt.subplots(figsize=(12, 6))\n",
    "\n",
    "cmap = colors.ListedColormap(plt.cm.Greys(np.linspace(0.25, 1, 10)), \"name\")\n",
    "\n",
    "ax = sns.heatmap(\n",
    "    nsgaii_pivot_df.values,\n",
    "    annot=True,\n",
    "    fmt=\".2f\",\n",
    "    cmap=cmap,\n",
    "    xticklabels=mut_prob,\n",
    "    yticklabels=cross_prob,\n",
    "    annot_kws={\"size\": 15},  # \"family\": \"roboto\"},\n",
    "    cbar_kws={\"orientation\": \"vertical\", \"pad\": 0.01},\n",
    ")\n",
    "\n",
    "ax.invert_yaxis()\n",
    "\n",
    "cbar = ax.collections[0].colorbar\n",
    "cbar.ax.tick_params(labelsize=15)\n",
    "\n",
    "ax.tick_params(axis=\"both\", which=\"major\", labelsize=16)\n",
    "\n",
    "ax.set_xlabel(\"Mutation Probability\", fontsize=18, fontweight=\"bold\")\n",
    "ax.set_ylabel(\"Crossover Probability\", fontsize=18, fontweight=\"bold\")\n",
    "\n",
    "plt.savefig(f\"nsgaii-probability-heatmap.pdf\", dpi=300, bbox_inches=\"tight\")\n"
   ]
  },
  {
   "cell_type": "code",
   "execution_count": null,
   "metadata": {},
   "outputs": [],
   "source": []
  },
  {
   "cell_type": "markdown",
   "metadata": {},
   "source": [
    "### Best Parameters"
   ]
  },
  {
   "cell_type": "code",
   "execution_count": null,
   "metadata": {},
   "outputs": [],
   "source": [
    "best = nsgaii_df[\n",
    "    [\n",
    "        \"algorithm\",\n",
    "        \"Algorithm\",\n",
    "        \"PopSize\",\n",
    "        \"NGen\",\n",
    "        \"CrossProb\",\n",
    "        \"MutProb\",\n",
    "        \"overall_occupation\",\n",
    "        \"overall_power_consumption\",\n",
    "        \"delay_sla_violations\",\n",
    "        \"privacy_sla_violations\",\n",
    "        \"Cost\",\n",
    "    ]\n",
    "].copy()\n",
    "\n",
    "best.sort_values(by=[\"Cost\", \"NGen\"], inplace=True)\n",
    "\n",
    "best.head(20)\n"
   ]
  },
  {
   "cell_type": "code",
   "execution_count": null,
   "metadata": {},
   "outputs": [],
   "source": [
    "best_nsgaii_parameters = best.iloc[0, 0]\n",
    "best_nsgaii_parameters\n"
   ]
  },
  {
   "cell_type": "code",
   "execution_count": null,
   "metadata": {},
   "outputs": [],
   "source": []
  },
  {
   "cell_type": "markdown",
   "metadata": {},
   "source": [
    "## Results"
   ]
  },
  {
   "cell_type": "code",
   "execution_count": null,
   "metadata": {},
   "outputs": [],
   "source": [
    "algorithms = [\n",
    "    \"logs/algorithm=argos;\",\n",
    "    \"logs/algorithm=faticanti2020;\",\n",
    "    \"logs/algorithm=thea;\",\n",
    "    best_nsgaii_parameters,\n",
    "]\n",
    "\n",
    "algorithms"
   ]
  },
  {
   "cell_type": "code",
   "execution_count": null,
   "metadata": {},
   "outputs": [],
   "source": [
    "results = []\n",
    "for row in data:\n",
    "    if row[\"algorithm\"] in algorithms:\n",
    "        print(\"algorithm: {}\".format(row[\"algorithm\"]))\n",
    "        row[\"Algorithm\"] = row[\"algorithm\"].split(\";\")[0].split(\"=\")[1]\n",
    "        results.append(row)\n"
   ]
  },
  {
   "cell_type": "code",
   "execution_count": null,
   "metadata": {},
   "outputs": [],
   "source": [
    "results_df = pd.DataFrame(results)\n",
    "\n",
    "results_df[\n",
    "    [\"algorithm\", \"overall_occupation\", \"overall_power_consumption\", \"delay_sla_violations\", \"privacy_sla_violations\"]\n",
    "].sort_values(by=[\"algorithm\"], ascending=True).reset_index(drop=True)\n"
   ]
  },
  {
   "cell_type": "code",
   "execution_count": null,
   "metadata": {},
   "outputs": [],
   "source": [
    "for item in [\"provider\", \"model\", \"chain_size\", \"delay_sla\", \"privacy_requirement\"]:\n",
    "\n",
    "    df = pd.json_normalize(results, record_path=[item], meta=[\"algorithm\"])\n",
    "\n",
    "    # shift column 'algorithm' to first position\n",
    "    algorithm = df.pop(\"algorithm\")\n",
    "    df.insert(0, \"algorithm\", algorithm)\n",
    "\n",
    "    if item == \"model\":\n",
    "        df = df.sort_values(by=[\"algorithm\", \"model_name\"], ascending=True).reset_index(drop=True)\n",
    "\n",
    "    if item == \"privacy_requirement\":\n",
    "        df = df.sort_values(by=[\"algorithm\", \"privacy_requirement\"], ascending=True).reset_index(drop=True)\n",
    "\n",
    "    if item == \"chain_size\":\n",
    "        df = df.sort_values(by=[\"algorithm\", \"chain_size\"], ascending=True).reset_index(drop=True)\n",
    "\n",
    "    display(df)\n"
   ]
  },
  {
   "cell_type": "code",
   "execution_count": null,
   "metadata": {},
   "outputs": [],
   "source": []
  },
  {
   "cell_type": "code",
   "execution_count": null,
   "metadata": {},
   "outputs": [],
   "source": []
  },
  {
   "cell_type": "markdown",
   "metadata": {},
   "source": [
    "## Custom Metrics"
   ]
  },
  {
   "cell_type": "code",
   "execution_count": null,
   "metadata": {},
   "outputs": [],
   "source": [
    "def read_algorithms_results(path, algorithms, item):\n",
    "\n",
    "    dfs = []\n",
    "    for algorithm in glob(path):\n",
    "\n",
    "        if algorithm not in algorithms:\n",
    "            continue\n",
    "\n",
    "        print(algorithm)\n",
    "\n",
    "        with open(f\"{algorithm}/{item}.msgpack\", \"rb\") as f:\n",
    "            data = msgpack.load(f, strict_map_key=False)\n",
    "\n",
    "        df = pd.DataFrame(data)\n",
    "        df.loc[:, (\"Algorithm\")] = algorithm.split(\"/\")[-1]\n",
    "        df = df[df[\"Time Step\"] == df[\"Time Step\"].max()]\n",
    "\n",
    "        dfs.append(df)\n",
    "\n",
    "    return dfs\n"
   ]
  },
  {
   "cell_type": "markdown",
   "metadata": {},
   "source": [
    "### Communication Path Size"
   ]
  },
  {
   "cell_type": "code",
   "execution_count": null,
   "metadata": {},
   "outputs": [],
   "source": [
    "def add_app_chain_size_and_delay_sla(df):\n",
    "    df.loc[:, (\"Application Chain Size\")] = [1, 1, 2, 2, 4, 4, 8, 8, 1, 1, 2, 2, 4, 4, 8, 8]\n",
    "    df.loc[:, (\"Delay SLA\")] = [3, 6, 3, 3, 6, 3, 6, 6, 3, 6, 3, 6, 3, 3, 6, 6]\n",
    "\n",
    "    return df\n"
   ]
  },
  {
   "cell_type": "code",
   "execution_count": null,
   "metadata": {},
   "outputs": [],
   "source": [
    "algorithms = [\n",
    "    \"logs/algorithm=argos;\",\n",
    "    \"logs/algorithm=faticanti2020;\",\n",
    "    \"logs/algorithm=thea;\",\n",
    "    best_nsgaii_parameters,\n",
    "]\n",
    "\n",
    "dfs = read_algorithms_results(\"logs/*\", algorithms, \"User\")\n",
    "\n",
    "df = pd.concat([add_app_chain_size_and_delay_sla(df) for df in dfs])\n"
   ]
  },
  {
   "cell_type": "code",
   "execution_count": null,
   "metadata": {},
   "outputs": [],
   "source": [
    "def compute_path_lengh(x):\n",
    "    path_len = 0\n",
    "\n",
    "    for path_list in x.values():\n",
    "        for sublist in path_list:\n",
    "            if (len(sublist) - 1) > 0:\n",
    "                path_len += len(sublist) - 1\n",
    "\n",
    "    return path_len\n",
    "\n",
    "\n",
    "assert compute_path_lengh({\"1\": [[78, 69, 61, 62, 63]]}) == 4\n",
    "assert compute_path_lengh({'5': [[10, 20, 21, 22, 23, 24], [], [], [24, 14]]}) == 6\n"
   ]
  },
  {
   "cell_type": "code",
   "execution_count": null,
   "metadata": {},
   "outputs": [],
   "source": [
    "get_dict_value = lambda x: list(x.values())[0]\n",
    "\n",
    "assert get_dict_value({\"1\": 4}) == 4\n"
   ]
  },
  {
   "cell_type": "code",
   "execution_count": null,
   "metadata": {},
   "outputs": [],
   "source": [
    "df = pd.concat(dfs)\n",
    "\n",
    "df[\"Delay Value\"] = df[\"Delays\"].map(get_dict_value)\n",
    "df[\"Delay SLA Violation\"] = df[\"Delay Value\"] > df[\"Delay SLA\"]\n",
    "df[\"Communication Path Size\"] = df[\"Communication Paths\"].map(compute_path_lengh)\n",
    "\n",
    "df[[\"Delays\", \"Delay Value\", \"Delay SLA\", \"Delay SLA Violation\"]].head(5)"
   ]
  },
  {
   "cell_type": "code",
   "execution_count": null,
   "metadata": {},
   "outputs": [],
   "source": [
    "gp = df.groupby([\"Algorithm\", \"Application Chain Size\"])[\"Communication Path Size\"].mean().reset_index()\n",
    "gp\n"
   ]
  },
  {
   "cell_type": "code",
   "execution_count": null,
   "metadata": {},
   "outputs": [],
   "source": [
    "# Communication Path Size by Application Chain Size\n",
    "gp.pivot_table(index=\"Application Chain Size\", columns=\"Algorithm\", values=\"Communication Path Size\")\n"
   ]
  },
  {
   "cell_type": "code",
   "execution_count": null,
   "metadata": {},
   "outputs": [],
   "source": []
  },
  {
   "cell_type": "code",
   "execution_count": null,
   "metadata": {},
   "outputs": [],
   "source": []
  },
  {
   "cell_type": "code",
   "execution_count": null,
   "metadata": {},
   "outputs": [],
   "source": []
  },
  {
   "cell_type": "markdown",
   "metadata": {},
   "source": [
    "### Delay SLA Violations by App Chain Size"
   ]
  },
  {
   "cell_type": "code",
   "execution_count": null,
   "metadata": {},
   "outputs": [],
   "source": [
    "gp = df.groupby([\"Algorithm\", \"Application Chain Size\"])[\"Delay SLA Violation\"].sum().reset_index()\n",
    "gp\n"
   ]
  },
  {
   "cell_type": "code",
   "execution_count": null,
   "metadata": {},
   "outputs": [],
   "source": [
    "# Delay SLA Violations by Application Chain Size\n",
    "gp.pivot_table(index=\"Algorithm\", columns=\"Application Chain Size\", values=\"Delay SLA Violation\")\n"
   ]
  },
  {
   "cell_type": "code",
   "execution_count": null,
   "metadata": {},
   "outputs": [],
   "source": []
  },
  {
   "cell_type": "code",
   "execution_count": null,
   "metadata": {},
   "outputs": [],
   "source": []
  },
  {
   "cell_type": "code",
   "execution_count": null,
   "metadata": {},
   "outputs": [],
   "source": []
  },
  {
   "cell_type": "code",
   "execution_count": null,
   "metadata": {},
   "outputs": [],
   "source": []
  },
  {
   "cell_type": "code",
   "execution_count": null,
   "metadata": {},
   "outputs": [],
   "source": []
  },
  {
   "cell_type": "markdown",
   "metadata": {},
   "source": [
    "### Number of Services on Servers with Exceeding Trust"
   ]
  },
  {
   "cell_type": "code",
   "execution_count": null,
   "metadata": {},
   "outputs": [],
   "source": [
    "# Importing EdgeSimPy components\n",
    "from edge_sim_py import *\n",
    "\n",
    "simulator = Simulator()\n",
    "simulator.initialize(input_file=\"datasets/dataset1.json\")\n"
   ]
  },
  {
   "cell_type": "code",
   "execution_count": null,
   "metadata": {},
   "outputs": [],
   "source": [
    "service_requirements = {}\n",
    "\n",
    "user_providers_trust = {}\n",
    "user_id_services = {}\n",
    "\n",
    "edge_server_ip = {}\n",
    "\n",
    "for user in User.all():\n",
    "    user_id_services[user.id] = []\n",
    "    user_providers_trust[user.id] = user.providers_trust\n",
    "\n",
    "    for app in user.applications:\n",
    "        for service in app.services:\n",
    "            user_id_services[user.id].append(service.id)\n",
    "            service_requirements[service.id] = service.privacy_requirement\n",
    "\n",
    "for edge_server in EdgeServer.all():\n",
    "    edge_server_ip[edge_server.id] = edge_server.infrastructure_provider\n",
    "\n",
    "user_id_services\n"
   ]
  },
  {
   "cell_type": "code",
   "execution_count": null,
   "metadata": {},
   "outputs": [],
   "source": [
    "print(service_requirements)\n"
   ]
  },
  {
   "cell_type": "code",
   "execution_count": null,
   "metadata": {},
   "outputs": [],
   "source": [
    "print(edge_server_ip)\n"
   ]
  },
  {
   "cell_type": "code",
   "execution_count": null,
   "metadata": {},
   "outputs": [],
   "source": [
    "user_providers_trust\n"
   ]
  },
  {
   "cell_type": "code",
   "execution_count": null,
   "metadata": {},
   "outputs": [],
   "source": [
    "def check_exceeding_trust(row):\n",
    "    service_requirement = row[\"Service Requirement\"]\n",
    "    user_providers_trust = row[\"User Providers Trust\"]\n",
    "    infrastructure_provider = row[\"Infrastructure Provider\"]\n",
    "\n",
    "    return user_providers_trust[str(infrastructure_provider)] > service_requirement\n",
    "\n",
    "\n",
    "def compute_exceeding_trust(service_df):\n",
    "\n",
    "    service_df = service_df[service_df[\"Time Step\"] == service_df[\"Time Step\"].max()]\n",
    "\n",
    "    service_df.loc[:, (\"Server\")] = service_df[\"Server\"].astype(int)\n",
    "\n",
    "    service_df.loc[:, (\"Service Requirement\")] = service_df[\"Instance ID\"].map(lambda x: service_requirements[x])\n",
    "    service_df.loc[:, (\"Infrastructure Provider\")] = service_df[\"Server\"].map(lambda x: edge_server_ip[x])\n",
    "\n",
    "    get_user_id_by_service_id = lambda service_id: [k for k, v in user_id_services.items() if service_id in v][0]\n",
    "    service_df.loc[:, (\"User ID\")] = service_df[\"Instance ID\"].map(get_user_id_by_service_id)\n",
    "    service_df.loc[:, (\"User Providers Trust\")] = service_df[\"User ID\"].map(lambda user_id: user_providers_trust[user_id])\n",
    "\n",
    "    service_df.loc[:, (\"Exceeding Trust\")] = service_df.apply(check_exceeding_trust, axis=1)\n",
    "\n",
    "    return service_df\n"
   ]
  },
  {
   "cell_type": "code",
   "execution_count": null,
   "metadata": {},
   "outputs": [],
   "source": [
    "algorithms = [\n",
    "    \"logs/algorithm=argos;\",\n",
    "    \"logs/algorithm=faticanti2020;\",\n",
    "    \"logs/algorithm=thea;\",\n",
    "    best_nsgaii_parameters,\n",
    "]\n",
    "\n",
    "dfs = read_algorithms_results(\"logs/*\", algorithms, \"Service\")\n",
    "\n",
    "df = pd.concat([compute_exceeding_trust(df) for df in dfs])\n"
   ]
  },
  {
   "cell_type": "code",
   "execution_count": null,
   "metadata": {},
   "outputs": [],
   "source": [
    "df[\"Exceeding Trust\"].head(10)\n"
   ]
  },
  {
   "cell_type": "code",
   "execution_count": null,
   "metadata": {},
   "outputs": [],
   "source": [
    "gp = df.groupby(\"Algorithm\")[\"Exceeding Trust\"].sum().reset_index()\n",
    "gp\n"
   ]
  },
  {
   "cell_type": "code",
   "execution_count": null,
   "metadata": {},
   "outputs": [],
   "source": []
  },
  {
   "cell_type": "code",
   "execution_count": null,
   "metadata": {},
   "outputs": [],
   "source": []
  },
  {
   "cell_type": "code",
   "execution_count": null,
   "metadata": {},
   "outputs": [],
   "source": []
  },
  {
   "cell_type": "markdown",
   "metadata": {},
   "source": [
    "### CPU Demand Sum by Edge Server Model"
   ]
  },
  {
   "cell_type": "code",
   "execution_count": null,
   "metadata": {},
   "outputs": [],
   "source": [
    "edge_server_models = {}\n",
    "for edge_server in EdgeServer.all():\n",
    "    edge_server_models[edge_server.id] = edge_server.model_name\n",
    "\n",
    "edge_server_models"
   ]
  },
  {
   "cell_type": "code",
   "execution_count": null,
   "metadata": {},
   "outputs": [],
   "source": [
    "algorithms = [\n",
    "    \"logs/algorithm=argos;\",\n",
    "    \"logs/algorithm=faticanti2020;\",\n",
    "    \"logs/algorithm=thea;\",\n",
    "    best_nsgaii_parameters,\n",
    "]\n",
    "\n",
    "dfs = read_algorithms_results(\"logs/*\", algorithms, \"EdgeServer\")\n",
    "\n",
    "edge_server_df = pd.concat(dfs)\n"
   ]
  },
  {
   "cell_type": "code",
   "execution_count": null,
   "metadata": {},
   "outputs": [],
   "source": [
    "edge_server_df[\"Model Name\"] = edge_server_df[\"Instance ID\"].map(lambda edge_server_id: edge_server_models[edge_server_id])\n",
    "\n",
    "edge_server_df[[\"Object\", \"Model Name\", \"CPU Demand\"]].head(5)"
   ]
  },
  {
   "cell_type": "code",
   "execution_count": null,
   "metadata": {},
   "outputs": [],
   "source": [
    "edge_server_df.groupby([\"Algorithm\", \"Model Name\"])[\"CPU Demand\"].sum().reset_index()\n"
   ]
  },
  {
   "cell_type": "code",
   "execution_count": null,
   "metadata": {},
   "outputs": [],
   "source": []
  },
  {
   "cell_type": "code",
   "execution_count": null,
   "metadata": {},
   "outputs": [],
   "source": []
  },
  {
   "cell_type": "code",
   "execution_count": null,
   "metadata": {},
   "outputs": [],
   "source": []
  }
 ],
 "metadata": {
  "kernelspec": {
   "display_name": "Python 3.7.13 ('thea-_DB9mXEn-py3.7')",
   "language": "python",
   "name": "python3"
  },
  "language_info": {
   "codemirror_mode": {
    "name": "ipython",
    "version": 3
   },
   "file_extension": ".py",
   "mimetype": "text/x-python",
   "name": "python",
   "nbconvert_exporter": "python",
   "pygments_lexer": "ipython3",
   "version": "3.7.13"
  },
  "orig_nbformat": 4,
  "vscode": {
   "interpreter": {
    "hash": "53c0a256d2dd9f48945eff7fe53a314924e6e552debf90d3070cc812d83a7a0a"
   }
  }
 },
 "nbformat": 4,
 "nbformat_minor": 2
}
